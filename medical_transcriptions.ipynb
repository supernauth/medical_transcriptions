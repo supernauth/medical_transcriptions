{
 "cells": [
  {
   "cell_type": "markdown",
   "id": "b1795d13-e6b8-4560-a2db-a6f055b11155",
   "metadata": {},
   "source": [
    "# Medical transcriptions"
   ]
  },
  {
   "cell_type": "markdown",
   "id": "da8b3898-7320-40ec-99da-b940d8c68120",
   "metadata": {},
   "source": [
    "<a href='https://www.kaggle.com/datasets/tboyle10/medicaltranscriptions#mtsamples.csv'>source: kaggle.com: Medical Transcriptions</a>  \n",
    "* Medical transcription data scraped from mtsamples.com"
   ]
  },
  {
   "cell_type": "code",
   "execution_count": 2,
   "id": "7c65b35c-7491-45f0-858f-8a1f8894076c",
   "metadata": {},
   "outputs": [],
   "source": [
    "import numpy as np\n",
    "import pandas as pd\n",
    "import matplotlib.pyplot as plt\n",
    "import seaborn as sns"
   ]
  },
  {
   "cell_type": "code",
   "execution_count": null,
   "id": "2dd837af-5d79-4ec5-848d-d1a0a64db53e",
   "metadata": {},
   "outputs": [],
   "source": []
  }
 ],
 "metadata": {
  "kernelspec": {
   "display_name": "Python 3 (ipykernel)",
   "language": "python",
   "name": "python3"
  },
  "language_info": {
   "codemirror_mode": {
    "name": "ipython",
    "version": 3
   },
   "file_extension": ".py",
   "mimetype": "text/x-python",
   "name": "python",
   "nbconvert_exporter": "python",
   "pygments_lexer": "ipython3",
   "version": "3.12.2"
  }
 },
 "nbformat": 4,
 "nbformat_minor": 5
}
